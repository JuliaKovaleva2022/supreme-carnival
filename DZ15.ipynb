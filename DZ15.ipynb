{
  "nbformat": 4,
  "nbformat_minor": 0,
  "metadata": {
    "colab": {
      "name": "DZ15",
      "provenance": [],
      "collapsed_sections": [],
      "authorship_tag": "ABX9TyOkgdhZMHWGStaXGe+zJwGE",
      "include_colab_link": true
    },
    "kernelspec": {
      "name": "python3",
      "display_name": "Python 3"
    },
    "language_info": {
      "name": "python"
    }
  },
  "cells": [
    {
      "cell_type": "markdown",
      "metadata": {
        "id": "view-in-github",
        "colab_type": "text"
      },
      "source": [
        "<a href=\"https://colab.research.google.com/github/JuliaKovaleva2022/supreme-carnival/blob/main/DZ15.ipynb\" target=\"_parent\"><img src=\"https://colab.research.google.com/assets/colab-badge.svg\" alt=\"Open In Colab\"/></a>"
      ]
    },
    {
      "cell_type": "code",
      "execution_count": null,
      "metadata": {
        "colab": {
          "base_uri": "https://localhost:8080/"
        },
        "id": "MWtxfURuFPNN",
        "outputId": "56811684-58ae-4d71-a00a-75b5a9956f7f"
      },
      "outputs": [
        {
          "output_type": "stream",
          "name": "stdout",
          "text": [
            "Напишите слово: qwer\n",
            "we\n"
          ]
        }
      ],
      "source": [
        "word=str(input(\"Напишите слово: \"))\n",
        "n=len (word)//2\n",
        "if len (word) % 2 == 0:\n",
        "        print(word [n-1:n+1])\n",
        "else:\n",
        "       print(word[n]) \n",
        "# или print(word[int (len(word)/2 - 0.1)])"
      ]
    },
    {
      "cell_type": "code",
      "source": [
        "a = int(input(\"введите число: \"))\n",
        "b = 0\n",
        "while a:\n",
        "    b += a\n",
        "    a = int(input(\"введите число: \"))\n",
        "print (b)\n"
      ],
      "metadata": {
        "colab": {
          "base_uri": "https://localhost:8080/"
        },
        "id": "9Trx01oQLzpc",
        "outputId": "604ded12-9670-4820-c67d-bce182618c20"
      },
      "execution_count": null,
      "outputs": [
        {
          "output_type": "stream",
          "name": "stdout",
          "text": [
            "введите число: 4\n",
            "введите число: 4\n",
            "введите число: 40\n",
            "введите число: 0\n",
            "48\n"
          ]
        }
      ]
    },
    {
      "cell_type": "code",
      "source": [
        "boys = ['Peter','Alex', 'John', 'Arthur', 'Richard']\n",
        "girls = ['Kate', 'Liza', 'Kira', 'Emma', 'Trisha']\n",
        "if len(boys)==len(girls):\n",
        "    print(\"Идеальная пара:\")\n",
        "    boys.sort()\n",
        "    girls.sort()\n",
        "    dating = zip(boys, girls)\n",
        "    for company in dating:\n",
        "        print(f\"{company[0]} и {company[1]}\")\n",
        "else:\n",
        " \n",
        "    print(\"Кто то может остаться без пары\")"
      ],
      "metadata": {
        "colab": {
          "base_uri": "https://localhost:8080/"
        },
        "id": "RAHlr2X8xgcX",
        "outputId": "78c5ccee-6ffd-4827-a575-4f92b31f6430"
      },
      "execution_count": null,
      "outputs": [
        {
          "output_type": "stream",
          "name": "stdout",
          "text": [
            "Идеальная пара:\n",
            "Alex и Emma\n",
            "Arthur и Kate\n",
            "John и Kira\n",
            "Peter и Liza\n",
            "Richard и Trisha\n"
          ]
        }
      ]
    },
    {
      "cell_type": "code",
      "source": [
        "boys = ['Peter', 'Alex', 'John', 'Arthur', 'Richard', 'Michael']\n",
        "girls = ['Kate', 'Liza', 'Kira', 'Emma', 'Trisha']\n",
        "if len(boys)==len(girls):\n",
        "    print(\"Идеальная пара:\")\n",
        "    boys.sort()\n",
        "    girls.sort()\n",
        "    dating = zip(boys, girls)\n",
        "    for company in dating:\n",
        "        print(f\"{company[0]} и {company[1]}\")\n",
        "else:\n",
        " \n",
        "    print(\"Кто то может остаться без пары\")"
      ],
      "metadata": {
        "colab": {
          "base_uri": "https://localhost:8080/"
        },
        "id": "pYhumEIquzNL",
        "outputId": "a4fae747-cb20-4da5-9da8-5262a0142f06"
      },
      "execution_count": null,
      "outputs": [
        {
          "output_type": "stream",
          "name": "stdout",
          "text": [
            "Кто то может остаться без пары\n"
          ]
        }
      ]
    },
    {
      "cell_type": "code",
      "source": [
        "countries_temperature = [\n",
        "    ['Thailand', [75.2, 77, 78.8, 73.4, 68, 75.2, 77]],\n",
        "    ['Germany', [57.2, 55.4, 59, 59, 53.6]],\n",
        "    ['Russia', [35.6, 37.4, 39.2, 41, 42.8, 39.2, 35.6]],\n",
        "    ['Poland', [50, 50, 53.6, 57.2, 55.4, 55.4]]\n",
        "]\n",
        "for i in countries_temperature:\n",
        "    print(i[0], '-', round((sum(i[1]) / len(i[1]) - 32) / 1.8, 1), 'C')"
      ],
      "metadata": {
        "colab": {
          "base_uri": "https://localhost:8080/"
        },
        "id": "F71Xks0yyP64",
        "outputId": "9d563ce8-9f94-41b8-febb-19846173e2ca"
      },
      "execution_count": null,
      "outputs": [
        {
          "output_type": "stream",
          "name": "stdout",
          "text": [
            "Thailand - 23.9 C\n",
            "Germany - 13.8 C\n",
            "Russia - 3.7 C\n",
            "Poland - 12.0 C\n"
          ]
        }
      ]
    }
  ]
}